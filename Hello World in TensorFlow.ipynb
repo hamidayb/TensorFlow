{
  "nbformat": 4,
  "nbformat_minor": 0,
  "metadata": {
    "colab": {
      "name": "Untitled0.ipynb",
      "provenance": [],
      "collapsed_sections": []
    },
    "kernelspec": {
      "name": "python3",
      "display_name": "Python 3"
    }
  },
  "cells": [
    {
      "cell_type": "markdown",
      "metadata": {
        "id": "-_0xzz61iYC6",
        "colab_type": "text"
      },
      "source": [
        "### **Hello World in TensorFlow**\n",
        "\n",
        "**TensorFlow** is an open source library which allows to interact with machine learning projects.\n",
        "\n",
        "Below is the program as a Hello World to TensorFlow in which we will provide Data(x,y as a numpy array) and the machine will understand the relation between data and results i.e., relation between x and y, then depending upon the answers it will predict the answers for other values.\n",
        "\n",
        "First of all, we will **import the required libraries.**\n"
      ]
    },
    {
      "cell_type": "code",
      "metadata": {
        "id": "xk9Vr-akksDo",
        "colab_type": "code",
        "colab": {}
      },
      "source": [
        "import tensorflow as tf\n",
        "from tensorflow import keras\n",
        "import numpy as np"
      ],
      "execution_count": 3,
      "outputs": []
    },
    {
      "cell_type": "markdown",
      "metadata": {
        "id": "nb_v6yHpk4Nu",
        "colab_type": "text"
      },
      "source": [
        "**Keras** is an open source library written in Python. It is designed to enable fast experimentation with deep learning networks. *italicized text*\n",
        "\n",
        "**Numpy** is an open source library used for working with arrays. *italicized text*\n"
      ]
    },
    {
      "cell_type": "code",
      "metadata": {
        "id": "4Sb_wDoxlrBC",
        "colab_type": "code",
        "colab": {}
      },
      "source": [
        "model = keras.Sequential([keras.layers.Dense(units=1, input_shape = [1])])"
      ],
      "execution_count": 4,
      "outputs": []
    },
    {
      "cell_type": "markdown",
      "metadata": {
        "id": "KCHqw2sHmQcC",
        "colab_type": "text"
      },
      "source": [
        "**Sequential** is a one and the straightforward way to create Keras. It is limited to only single input and single output stacks of layers.\n",
        "\n",
        "**Dense Layer** is the regular deeply connected neural network layer. It is the most commonly and frequently used layer of keras. *italicized text* \n",
        "\n",
        "**input_shape** is the dimensional shape of input. Like in this case, it is one dimensional.\n",
        "\n",
        "**units** affects the number of units in the output layer."
      ]
    },
    {
      "cell_type": "code",
      "metadata": {
        "id": "BKbcLPK3o29j",
        "colab_type": "code",
        "colab": {}
      },
      "source": [
        "model.compile(optimizer = 'sgd', loss = 'mean_squared_error')"
      ],
      "execution_count": 8,
      "outputs": []
    },
    {
      "cell_type": "markdown",
      "metadata": {
        "id": "oU0CYODaqkIf",
        "colab_type": "text"
      },
      "source": [
        "Optimizer and loss are the two fields of the compile. **Loss** determines the difference of accurate results from guess results. Based on the loss, **optimizer** makes another guess that maybe closer then the guess before."
      ]
    },
    {
      "cell_type": "code",
      "metadata": {
        "id": "hwWokFJzrQmv",
        "colab_type": "code",
        "colab": {}
      },
      "source": [
        "x = np.array([1,2,3,4,5,6,7,8], dtype = float)\n",
        "y = np.array([3,5,7,9,11,13,15,17], dtype = float)"
      ],
      "execution_count": 9,
      "outputs": []
    },
    {
      "cell_type": "markdown",
      "metadata": {
        "id": "V00UOcL3rq9K",
        "colab_type": "text"
      },
      "source": [
        "Two arrays are initialized.\n",
        "The *x array is our data* and *y array is our answer*.\n",
        "\n",
        "Depending on x and y our machine will learn the relation between x and y."
      ]
    },
    {
      "cell_type": "markdown",
      "metadata": {
        "id": "BGLjx0n7sXbD",
        "colab_type": "text"
      },
      "source": [
        "X and Y are fitted in model. **Epochs** is the number of guesses we required from the compiler. In this case, 1000 guesses are being made. More the number of epochs, more accurate the results will be."
      ]
    },
    {
      "cell_type": "code",
      "metadata": {
        "id": "viu7LW0WsMyK",
        "colab_type": "code",
        "colab": {}
      },
      "source": [
        "model.fit(x, y, epochs = 1000)"
      ],
      "execution_count": null,
      "outputs": []
    },
    {
      "cell_type": "code",
      "metadata": {
        "id": "kO03BwRvtHps",
        "colab_type": "code",
        "colab": {
          "base_uri": "https://localhost:8080/",
          "height": 34
        },
        "outputId": "12bd7f47-4ab2-4da1-d178-988d57860f22"
      },
      "source": [
        "print(model.predict([10]))"
      ],
      "execution_count": 14,
      "outputs": [
        {
          "output_type": "stream",
          "text": [
            "[[21.001566]]\n"
          ],
          "name": "stdout"
        }
      ]
    }
  ]
}