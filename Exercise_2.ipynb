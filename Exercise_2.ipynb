{
  "nbformat": 4,
  "nbformat_minor": 0,
  "metadata": {
    "colab": {
      "name": "Exercise_2",
      "provenance": [],
      "collapsed_sections": [],
      "authorship_tag": "ABX9TyNva2alHSTkabjon4AmnSMW",
      "include_colab_link": true
    },
    "kernelspec": {
      "name": "python3",
      "display_name": "Python 3"
    }
  },
  "cells": [
    {
      "cell_type": "markdown",
      "metadata": {
        "id": "view-in-github",
        "colab_type": "text"
      },
      "source": [
        "<a href=\"https://colab.research.google.com/github/hayubnustseecs/TensorFlow/blob/master/Exercise_2.ipynb\" target=\"_parent\"><img src=\"https://colab.research.google.com/assets/colab-badge.svg\" alt=\"Open In Colab\"/></a>"
      ]
    },
    {
      "cell_type": "markdown",
      "metadata": {
        "id": "jmFfpIjUmqlL",
        "colab_type": "text"
      },
      "source": [
        "## **Exercise 2**\n",
        " In the course you learned how to do classificaiton using Fashion MNIST, a data set containing items of clothing. There's another, similar dataset called MNIST which has items of handwriting -- the digits 0 through 9.\n",
        "\n",
        " Write an MNIST classifier that trains to 99% accuracy or above, and does it without a fixed number of epochs -- i.e. you should stop training once you reach that level of accuracy.\n",
        "Some notes:\n",
        "\n",
        "\n",
        "1.   It should succeed in less than 10 epochs, so it is okay to change epochs= to 10, but nothing larger.\n",
        "\n",
        "2.   When it reaches 99% or greater it should print out the string \"Reached 99% accuracy so cancelling training!\"\n",
        "\n",
        "3.   If you add any additional variables, make sure you use the same names as the ones used in the class."
      ]
    },
    {
      "cell_type": "code",
      "metadata": {
        "id": "4Az57eQjnGSq",
        "colab_type": "code",
        "colab": {}
      },
      "source": [
        "import tensorflow as tf\n",
        "import tensorflow.keras as k"
      ],
      "execution_count": 1,
      "outputs": []
    },
    {
      "cell_type": "markdown",
      "metadata": {
        "id": "v52OGvIVnNl9",
        "colab_type": "text"
      },
      "source": [
        "Firstly we imported required libraries of tensorflow.\n",
        "\n",
        "Now we will **import mnist data**, that consists of a number of text images which will help to train our machine in text recognition and to test our machine text recognition capability."
      ]
    },
    {
      "cell_type": "code",
      "metadata": {
        "id": "hytAH-MioYDC",
        "colab_type": "code",
        "colab": {
          "base_uri": "https://localhost:8080/",
          "height": 51
        },
        "outputId": "8921a4c0-7277-46d3-eec9-6f13dc297a50"
      },
      "source": [
        "mnist = k.datasets.mnist\n",
        "(x_train, y_train), (x_test, y_test) = mnist.load_data()"
      ],
      "execution_count": 4,
      "outputs": [
        {
          "output_type": "stream",
          "text": [
            "Downloading data from https://storage.googleapis.com/tensorflow/tf-keras-datasets/mnist.npz\n",
            "11493376/11490434 [==============================] - 0s 0us/step\n"
          ],
          "name": "stdout"
        }
      ]
    },
    {
      "cell_type": "code",
      "metadata": {
        "id": "5_Fg21TlqQlp",
        "colab_type": "code",
        "colab": {}
      },
      "source": [
        "x_train = x_train/255\n",
        "y_train = y_train/255"
      ],
      "execution_count": 7,
      "outputs": []
    },
    {
      "cell_type": "markdown",
      "metadata": {
        "id": "QFWBLHcWp2t-",
        "colab_type": "text"
      },
      "source": [
        "X_train and y_train are divided by 255 to get them in range 0-1 becausen machine works better in range 0-1.\n",
        "\n",
        "Now let we \n",
        "**define our model**."
      ]
    },
    {
      "cell_type": "code",
      "metadata": {
        "id": "LRW5aK-DqH1c",
        "colab_type": "code",
        "colab": {}
      },
      "source": [
        "model = k.models.Sequential([\n",
        "                             k.layers.Flatten(input_shape = (28,28)),\n",
        "                             k.layers.Dense(1024, activation = tf.nn.relu),\n",
        "                             k.layers.Dense(10, activation = tf.nn.softmax)\n",
        "])"
      ],
      "execution_count": 10,
      "outputs": []
    },
    {
      "cell_type": "markdown",
      "metadata": {
        "id": "yPnRUEflrPD3",
        "colab_type": "text"
      },
      "source": [
        "**Sequential** defined in keras.models groups a linear stack of layers.\n",
        "\n",
        "**Flatten** will change the dimensions of your picture from 28x28 into 784x1.\n",
        "\n",
        "**Dense layer** creates a neural network. Relu in **tf.nn.relu** returns x if x>0 else returns 0. Softmax in **tf.nn.softmax** returns the maximum value in a set of 10 neurons in this example."
      ]
    },
    {
      "cell_type": "markdown",
      "metadata": {
        "id": "FEaih0T4tofN",
        "colab_type": "text"
      },
      "source": [
        "Now it's time to **compile our model**\n",
        "\n"
      ]
    },
    {
      "cell_type": "code",
      "metadata": {
        "id": "DlXxJrLrtaS8",
        "colab_type": "code",
        "colab": {}
      },
      "source": [
        "model.compile(optimizer = \"Adam\", loss = 'sparse_categorical_crossentropy', metrics = ['acc'])"
      ],
      "execution_count": 14,
      "outputs": []
    },
    {
      "cell_type": "markdown",
      "metadata": {
        "id": "AEYGLTFFuLuD",
        "colab_type": "text"
      },
      "source": [
        "**Loss** determines the variation of guess to the correct results. **Optimizer** makes guesses depending on loss output. \n",
        "\n",
        "**Metrics** is a extra variable used to determine the accuracy of guesses in this example."
      ]
    },
    {
      "cell_type": "code",
      "metadata": {
        "id": "2oBljDLGuzVb",
        "colab_type": "code",
        "colab": {
          "base_uri": "https://localhost:8080/",
          "height": 374
        },
        "outputId": "0bf7b497-8544-4db9-d293-b42741ac65d3"
      },
      "source": [
        "model.fit(x_train, y_train, epochs = 10)"
      ],
      "execution_count": 15,
      "outputs": [
        {
          "output_type": "stream",
          "text": [
            "Epoch 1/10\n",
            "1875/1875 [==============================] - 13s 7ms/step - loss: 0.0295 - acc: 0.0987\n",
            "Epoch 2/10\n",
            "1875/1875 [==============================] - 13s 7ms/step - loss: 3.1386e-05 - acc: 0.0987\n",
            "Epoch 3/10\n",
            "1875/1875 [==============================] - 13s 7ms/step - loss: 7.7860e-06 - acc: 0.0987\n",
            "Epoch 4/10\n",
            "1875/1875 [==============================] - 13s 7ms/step - loss: 2.4919e-06 - acc: 0.0987\n",
            "Epoch 5/10\n",
            "1875/1875 [==============================] - 13s 7ms/step - loss: 8.5676e-07 - acc: 0.0987\n",
            "Epoch 6/10\n",
            "1875/1875 [==============================] - 13s 7ms/step - loss: 2.8974e-07 - acc: 0.0987\n",
            "Epoch 7/10\n",
            "1875/1875 [==============================] - 14s 7ms/step - loss: 8.8618e-08 - acc: 0.0987\n",
            "Epoch 8/10\n",
            "1875/1875 [==============================] - 14s 7ms/step - loss: 2.2336e-08 - acc: 0.0987\n",
            "Epoch 9/10\n",
            "1875/1875 [==============================] - 13s 7ms/step - loss: 4.0293e-09 - acc: 0.0987\n",
            "Epoch 10/10\n",
            "1875/1875 [==============================] - 13s 7ms/step - loss: 3.6160e-10 - acc: 0.0987\n"
          ],
          "name": "stdout"
        },
        {
          "output_type": "execute_result",
          "data": {
            "text/plain": [
              "<tensorflow.python.keras.callbacks.History at 0x7f7f04a90198>"
            ]
          },
          "metadata": {
            "tags": []
          },
          "execution_count": 15
        }
      ]
    },
    {
      "cell_type": "markdown",
      "metadata": {
        "id": "Ln7rOWMPu-2M",
        "colab_type": "text"
      },
      "source": [
        "Now we have to fit our train variables to make our machine learn the relationship between x_train and y_train.\n",
        "\n",
        "**Epochs** defines the number of guesses we want to make our program make. In this case these are 10."
      ]
    },
    {
      "cell_type": "markdown",
      "metadata": {
        "id": "fuptEG0Evuiu",
        "colab_type": "text"
      },
      "source": [
        "The whole code is given below:"
      ]
    },
    {
      "cell_type": "code",
      "metadata": {
        "id": "RKLcnzclvxto",
        "colab_type": "code",
        "colab": {
          "base_uri": "https://localhost:8080/",
          "height": 374
        },
        "outputId": "91f1f687-b050-4dfd-e563-fdf85435018f"
      },
      "source": [
        "import tensorflow as tf\n",
        "import tensorflow.keras as k\n",
        "mnist = k.datasets.mnist\n",
        "(x_train, y_train), (x_test, y_test) = mnist.load_data()\n",
        "model = k.models.Sequential([\n",
        "                             k.layers.Flatten(input_shape = (28,28)),\n",
        "                             k.layers.Dense(512, activation = tf.nn.relu),\n",
        "                             k.layers.Dense(10, activation = tf.nn.softmax)\n",
        "])\n",
        "model.compile(optimizer = \"Adam\", loss = 'sparse_categorical_crossentropy', metrics = ['acc'])\n",
        "model.fit(x_train, y_train, epochs = 10)"
      ],
      "execution_count": 16,
      "outputs": [
        {
          "output_type": "stream",
          "text": [
            "Epoch 1/10\n",
            "1875/1875 [==============================] - 13s 7ms/step - loss: 2.8443 - acc: 0.9119\n",
            "Epoch 2/10\n",
            "1875/1875 [==============================] - 13s 7ms/step - loss: 0.3974 - acc: 0.9393\n",
            "Epoch 3/10\n",
            "1875/1875 [==============================] - 13s 7ms/step - loss: 0.3801 - acc: 0.9411\n",
            "Epoch 4/10\n",
            "1875/1875 [==============================] - 13s 7ms/step - loss: 0.2939 - acc: 0.9489\n",
            "Epoch 5/10\n",
            "1875/1875 [==============================] - 13s 7ms/step - loss: 0.2821 - acc: 0.9506\n",
            "Epoch 6/10\n",
            "1875/1875 [==============================] - 13s 7ms/step - loss: 0.2728 - acc: 0.9534\n",
            "Epoch 7/10\n",
            "1875/1875 [==============================] - 14s 7ms/step - loss: 0.2471 - acc: 0.9578\n",
            "Epoch 8/10\n",
            "1875/1875 [==============================] - 13s 7ms/step - loss: 0.2238 - acc: 0.9594\n",
            "Epoch 9/10\n",
            "1875/1875 [==============================] - 13s 7ms/step - loss: 0.2247 - acc: 0.9599\n",
            "Epoch 10/10\n",
            "1875/1875 [==============================] - 13s 7ms/step - loss: 0.2156 - acc: 0.9603\n"
          ],
          "name": "stdout"
        },
        {
          "output_type": "execute_result",
          "data": {
            "text/plain": [
              "<tensorflow.python.keras.callbacks.History at 0x7f7f01c8e518>"
            ]
          },
          "metadata": {
            "tags": []
          },
          "execution_count": 16
        }
      ]
    },
    {
      "cell_type": "code",
      "metadata": {
        "id": "XWpWj4i9wX16",
        "colab_type": "code",
        "colab": {}
      },
      "source": [
        ""
      ],
      "execution_count": null,
      "outputs": []
    }
  ]
}